{
 "cells": [
  {
   "cell_type": "code",
   "execution_count": 1,
   "id": "fde26f57",
   "metadata": {},
   "outputs": [
    {
     "name": "stderr",
     "output_type": "stream",
     "text": [
      "/home/ubuntu/miniconda/envs/ml/lib/python3.12/site-packages/tqdm/auto.py:21: TqdmWarning: IProgress not found. Please update jupyter and ipywidgets. See https://ipywidgets.readthedocs.io/en/stable/user_install.html\n",
      "  from .autonotebook import tqdm as notebook_tqdm\n",
      "/tmp/ipykernel_5227/2849240058.py:24: DeprecationWarning: load_dataset is deprecated and will be removed in a future version.\n",
      "  df = kagglehub.load_dataset(\n"
     ]
    }
   ],
   "source": [
    "from sklearn.preprocessing import OrdinalEncoder\n",
    "from sklearn.linear_model import LogisticRegression\n",
    "from sklearn.model_selection import train_test_split\n",
    "from sklearn.metrics import accuracy_score, classification_report\n",
    "import pandas as pd\n",
    "\n",
    "import mlflow\n",
    "from mlflow.models import infer_signature\n",
    "\n",
    "import pandas as pd\n",
    "from sklearn import datasets\n",
    "from sklearn.model_selection import train_test_split\n",
    "from sklearn.linear_model import LogisticRegression\n",
    "from sklearn.metrics import accuracy_score, precision_score, recall_score, f1_score, classification_report\n",
    "from sklearn.ensemble import RandomForestClassifier\n",
    "\n",
    "import kagglehub\n",
    "from kagglehub import KaggleDatasetAdapter\n",
    "import matplotlib.pyplot as plt\n",
    "\n",
    "file_path = \"wine_quality_classification.csv\"\n",
    "\n",
    "\n",
    "df = kagglehub.load_dataset(\n",
    "  KaggleDatasetAdapter.PANDAS,\n",
    "  \"sahideseker/wine-quality-classification\",\n",
    "  file_path,\n",
    "  \n",
    ")\n",
    "\n",
    "\n"
   ]
  },
  {
   "cell_type": "markdown",
   "id": "def2f89a",
   "metadata": {},
   "source": [
    "## Data Prep"
   ]
  },
  {
   "cell_type": "code",
   "execution_count": 2,
   "id": "059aa012",
   "metadata": {},
   "outputs": [],
   "source": [
    "quality_order = [\"low\", \"medium\", \"high\"]  \n",
    "encoder = OrdinalEncoder(\n",
    "    categories=[quality_order],\n",
    "    handle_unknown='use_encoded_value',  \n",
    "    unknown_value=-1  \n",
    ")\n",
    "y_encoded = encoder.fit_transform(df[['quality_label']]).ravel()\n",
    "\n",
    "\n",
    "X = df.drop(columns=\"quality_label\")\n",
    "y = y_encoded\n",
    "X_train, X_test, y_train, y_test = train_test_split(\n",
    "    X, y, \n",
    "    test_size=0.2, \n",
    "    random_state=42,\n",
    "    stratify=y  \n",
    ")\n"
   ]
  },
  {
   "cell_type": "markdown",
   "id": "6b901538",
   "metadata": {},
   "source": [
    "## Models"
   ]
  },
  {
   "cell_type": "code",
   "execution_count": 3,
   "id": "158033eb",
   "metadata": {},
   "outputs": [],
   "source": [
    "\n",
    "params_lr = {\n",
    "    \"solver\": \"lbfgs\",\n",
    "    \"max_iter\": 10000,\n",
    "    \"random_state\": 8888,\n",
    "\n",
    "    \"class_weight\": \"balanced\",  \n",
    "    \"penalty\": \"l2\",\n",
    "    \"C\": 0.1  \n",
    "}\n",
    "\n",
    "lr = LogisticRegression(**params_lr)\n",
    "lr.fit(X_train, y_train)\n",
    "\n",
    "\n",
    "y_pred_lr = lr.predict(X_test)\n",
    "accuracy = accuracy_score(y_test, y_pred_lr)\n",
    "\n",
    "\n",
    "\n",
    "y_proba = lr.predict_proba(X_test)\n",
    "report_dict_lr = classification_report(y_test, y_pred_lr, output_dict=True)\n"
   ]
  },
  {
   "cell_type": "code",
   "execution_count": 4,
   "id": "702f534d",
   "metadata": {},
   "outputs": [],
   "source": [
    "\n",
    "params_rf = {\n",
    "    \"n_estimators\": 30,\n",
    "    \"max_depth\": 3\n",
    "}\n",
    "rf_clf = RandomForestClassifier(**params_rf)\n",
    "rf_clf.fit(X_train, y_train)\n",
    "y_pred_rf = rf_clf.predict(X_test)\n",
    "report_dict_rf = classification_report(y_test, y_pred_rf, output_dict=True)"
   ]
  },
  {
   "cell_type": "markdown",
   "id": "75c7cc60",
   "metadata": {},
   "source": [
    "# MLflow structure"
   ]
  },
  {
   "cell_type": "code",
   "execution_count": 5,
   "id": "5a8c9b02",
   "metadata": {},
   "outputs": [],
   "source": [
    "models = {\"LogisticRegression\": lr, \"RandomForest\": rf_clf}\n",
    "params = {\"LogisticRegression\": params_lr, \"RandomForest\": params_rf}\n",
    "report_dict = {\"LogisticRegression\": report_dict_lr, \"RandomForest\": report_dict_rf}\n",
    "wine_feature_names = list(X_train.columns)"
   ]
  },
  {
   "cell_type": "markdown",
   "id": "2c5995ba",
   "metadata": {},
   "source": [
    "## Single Experiment with multiple runs"
   ]
  },
  {
   "cell_type": "markdown",
   "id": "aef7b11a",
   "metadata": {},
   "source": [
    "## Approach 1: Single Experiment with Multiple Runs\n",
    "- **Description**: One experiment (`MLflow_Wine_Single`) with separate runs for each model (LogisticRegression, RandomForest).\n",
    "\n",
    "### Pros\n",
    "- **Simplicity**: Easy to set up and manage within a single experiment.\n",
    "- **Comparison**: Facilitates direct comparison of models in the MLflow UI (e.g., metrics like accuracy, f1-score).\n",
    "- **Organization**: All runs are grouped under one experiment, ideal for related models.\n",
    "- **Scalability**: Works well for adding more models by creating additional runs.\n",
    "\n",
    "### Cons\n",
    "- **Clutter**: Can become crowded with many models or runs.\n",
    "- **Less Isolation**: Model runs are mixed, which may confuse unrelated experiments.\n",
    "- **Limited Hierarchy**: No parent-child structure for grouping related runs (unlike nested runs)."
   ]
  },
  {
   "cell_type": "code",
   "execution_count": 6,
   "id": "c1612c86",
   "metadata": {},
   "outputs": [
    {
     "name": "stderr",
     "output_type": "stream",
     "text": [
      "2025/04/29 17:11:50 INFO mlflow.tracking.fluent: Experiment with name '1-MLflow Wine' does not exist. Creating a new experiment.\n",
      "Registered model 'tracking-wine-logisticregression' already exists. Creating a new version of this model...\n",
      "2025/04/29 17:11:55 INFO mlflow.store.model_registry.abstract_store: Waiting up to 300 seconds for model version to finish creation. Model name: tracking-wine-logisticregression, version 6\n",
      "Created version '6' of model 'tracking-wine-logisticregression'.\n"
     ]
    },
    {
     "name": "stdout",
     "output_type": "stream",
     "text": [
      "🏃 View run LogisticRegression at: http://127.0.0.1:5000/#/experiments/205086602077169667/runs/02601672baf948c987a6626711e0ffa1\n",
      "🧪 View experiment at: http://127.0.0.1:5000/#/experiments/205086602077169667\n"
     ]
    },
    {
     "name": "stderr",
     "output_type": "stream",
     "text": [
      "Registered model 'tracking-wine-randomforest' already exists. Creating a new version of this model...\n",
      "2025/04/29 17:12:00 INFO mlflow.store.model_registry.abstract_store: Waiting up to 300 seconds for model version to finish creation. Model name: tracking-wine-randomforest, version 4\n",
      "Created version '4' of model 'tracking-wine-randomforest'.\n"
     ]
    },
    {
     "name": "stdout",
     "output_type": "stream",
     "text": [
      "🏃 View run RandomForest at: http://127.0.0.1:5000/#/experiments/205086602077169667/runs/116034f80d6a461b8bf5e29b20350a3f\n",
      "🧪 View experiment at: http://127.0.0.1:5000/#/experiments/205086602077169667\n"
     ]
    }
   ],
   "source": [
    "mlflow.set_tracking_uri(uri=\"http://127.0.0.1:5000\")\n",
    "mlflow.set_experiment(\"1-MLflow Wine\")\n",
    "\n",
    "\n",
    "for model_name, model in models.items():\n",
    "    with mlflow.start_run(run_name=model_name):\n",
    "        mlflow.log_params(params[model_name])\n",
    "        \n",
    "        mlflow.log_metrics({\n",
    "            \"accuracy\": report_dict[model_name][\"accuracy\"],\n",
    "            \"recall_class_0\": report_dict[model_name][\"0.0\"][\"recall\"],\n",
    "            \"recall_class_1\": report_dict[model_name][\"1.0\"][\"recall\"],\n",
    "            \"recall_class_2\": report_dict[model_name][\"2.0\"][\"recall\"],\n",
    "            \"f1-score\": report_dict[model_name][\"macro avg\"][\"f1-score\"]\n",
    "        })\n",
    "        \n",
    "        mlflow.set_tag(\"Single Experiment/ Multiple Runs Training info\", f\"{model_name} model for wine\")\n",
    "        \n",
    "        signature = infer_signature(X_train, model.predict(X_train))\n",
    "        \n",
    "        model_info = mlflow.sklearn.log_model(\n",
    "            sk_model=model,\n",
    "            artifact_path=f\"{model_name.lower()}_model\",\n",
    "            signature=signature,\n",
    "            input_example=X_train,\n",
    "            registered_model_name=f\"tracking-wine-{model_name.lower()}\"\n",
    "            )\n",
    "        \n",
    "        \n",
    "        predictions = model.predict(X_test)\n",
    "        result = pd.DataFrame(X_test, columns=wine_feature_names)\n",
    "        result[\"actual_class\"] = y_test\n",
    "        result['predicted_class'] = predictions\n",
    "        result.to_csv(f\"{model_name}_predictions.csv\")\n",
    "        mlflow.log_artifact(f\"{model_name}_predictions.csv\")\n",
    "        \n",
    "        \n",
    "        \n",
    "        \n",
    "        plt.figure()\n",
    "        if model_name == \"LogisticRegression\":\n",
    "            \n",
    "            coef = model.coef_[0]  \n",
    "            plt.bar(wine_feature_names, coef)\n",
    "            plt.title(\"LogisticRegression Coefficients\")\n",
    "            plt.xticks(rotation=45)\n",
    "            plt.tight_layout()\n",
    "            plt.savefig(\"logistic_coefficients.png\")\n",
    "            mlflow.log_artifact(\"logistic_coefficients.png\")\n",
    "        elif model_name == \"RandomForest\":\n",
    "            \n",
    "            importances = model.feature_importances_\n",
    "            plt.bar(wine_feature_names, importances)\n",
    "            plt.title(\"RandomForest Feature Importance\")\n",
    "            plt.xticks(rotation=45)\n",
    "            plt.tight_layout()\n",
    "            plt.savefig(\"feature_importance.png\")\n",
    "            mlflow.log_artifact(\"feature_importance.png\")\n",
    "        plt.close()"
   ]
  },
  {
   "cell_type": "markdown",
   "id": "b68d41c0",
   "metadata": {},
   "source": [
    "## Nested Runs"
   ]
  },
  {
   "cell_type": "markdown",
   "id": "bf8756b8",
   "metadata": {},
   "source": [
    "## Approach 2: Nested Runs\n",
    "- **Description**: One experiment (`MLflow_Wine_Nested`) with a parent run (`Wine_Model_Comparison`) and nested runs for each model.\n",
    "\n",
    "### Pros\n",
    "- **Hierarchy**: Nested runs provide a clear parent-child structure, grouping related models under one experiment.\n",
    "- **Context**: Parent run can log shared metrics or artifacts (e.g., dataset info).\n",
    "- **Comparison**: Nested runs are still comparable in the MLflow UI within the parent context.\n",
    "- **Flexibility**: Ideal for experiments with model variants or hyperparameter tuning.\n",
    "\n",
    "### Cons\n",
    "- **Complexity**: Slightly more complex to set up due to nested run management.\n",
    "- **UI Navigation**: Nested runs may be less intuitive to navigate in the MLflow UI for some users.\n",
    "- **Overhead**: Parent run adds minor overhead if not used for shared logging."
   ]
  },
  {
   "cell_type": "code",
   "execution_count": 7,
   "id": "8e92ac95",
   "metadata": {},
   "outputs": [
    {
     "name": "stderr",
     "output_type": "stream",
     "text": [
      "2025/04/29 17:12:00 INFO mlflow.tracking.fluent: Experiment with name '2-MLflow_Wine_Nested' does not exist. Creating a new experiment.\n",
      "Registered model 'tracking-wine-logisticregression' already exists. Creating a new version of this model...\n",
      "2025/04/29 17:12:05 INFO mlflow.store.model_registry.abstract_store: Waiting up to 300 seconds for model version to finish creation. Model name: tracking-wine-logisticregression, version 7\n",
      "Created version '7' of model 'tracking-wine-logisticregression'.\n"
     ]
    },
    {
     "name": "stdout",
     "output_type": "stream",
     "text": [
      "🏃 View run LogisticRegression at: http://127.0.0.1:5000/#/experiments/462244724701110143/runs/cd3662e765fd418fbd6cfe4900a26c47\n",
      "🧪 View experiment at: http://127.0.0.1:5000/#/experiments/462244724701110143\n"
     ]
    },
    {
     "name": "stderr",
     "output_type": "stream",
     "text": [
      "Registered model 'tracking-wine-randomforest' already exists. Creating a new version of this model...\n",
      "2025/04/29 17:12:10 INFO mlflow.store.model_registry.abstract_store: Waiting up to 300 seconds for model version to finish creation. Model name: tracking-wine-randomforest, version 5\n",
      "Created version '5' of model 'tracking-wine-randomforest'.\n"
     ]
    },
    {
     "name": "stdout",
     "output_type": "stream",
     "text": [
      "🏃 View run RandomForest at: http://127.0.0.1:5000/#/experiments/462244724701110143/runs/42c52b0322fd43339696754bb01f2f82\n",
      "🧪 View experiment at: http://127.0.0.1:5000/#/experiments/462244724701110143\n",
      "🏃 View run Wine_Model_Comparison at: http://127.0.0.1:5000/#/experiments/462244724701110143/runs/0d027e908d9c460b89a3408cc0085e60\n",
      "🧪 View experiment at: http://127.0.0.1:5000/#/experiments/462244724701110143\n"
     ]
    }
   ],
   "source": [
    "mlflow.set_tracking_uri(uri=\"http://127.0.0.1:5000\")\n",
    "mlflow.set_experiment(\"2-MLflow_Wine_Nested\")\n",
    "\n",
    "with mlflow.start_run(run_name=\"Wine_Model_Comparison\"):\n",
    "    for model_name, model in models.items():\n",
    "        with mlflow.start_run(run_name=model_name, nested=True):\n",
    "            mlflow.log_params(params[model_name])\n",
    "            mlflow.log_metrics({\n",
    "                \"accuracy\": report_dict[model_name][\"accuracy\"],\n",
    "                \"recall_class_0\": report_dict[model_name][\"0.0\"][\"recall\"],\n",
    "                \"recall_class_1\": report_dict[model_name][\"1.0\"][\"recall\"],\n",
    "                \"recall_class_2\": report_dict[model_name][\"2.0\"][\"recall\"],\n",
    "                \"f1-score\": report_dict[model_name][\"macro avg\"][\"f1-score\"]\n",
    "            })\n",
    "            mlflow.set_tag(\"Training Info\", f\"{model_name} model for Wine\")\n",
    "            signature = infer_signature(X_train, model.predict(X_train))\n",
    "            model_info = mlflow.sklearn.log_model(\n",
    "                sk_model=model,\n",
    "                artifact_path=f\"{model_name.lower()}_model\",\n",
    "                signature=signature,\n",
    "                input_example=X_train,\n",
    "                registered_model_name=f\"tracking-wine-{model_name.lower()}\"\n",
    "            )\n",
    "            predictions = model.predict(X_test)\n",
    "            result = pd.DataFrame(X_test, columns=wine_feature_names).drop(columns=\"quality_label\", errors=\"ignore\")\n",
    "            result[\"actual_class\"] = y_test\n",
    "            result[\"predicted_class\"] = predictions\n",
    "            result.to_csv(f\"{model_name}_predictions.csv\")\n",
    "            mlflow.log_artifact(f\"{model_name}_predictions.csv\")\n",
    "            \n",
    "            \n",
    "            \n",
    "            plt.figure()\n",
    "        if model_name == \"LogisticRegression\":\n",
    "            \n",
    "            coef = model.coef_[0]  \n",
    "            plt.bar(wine_feature_names, coef)\n",
    "            plt.title(\"LogisticRegression Coefficients\")\n",
    "            plt.xticks(rotation=45)\n",
    "            plt.tight_layout()\n",
    "            plt.savefig(\"logistic_coefficients.png\")\n",
    "            mlflow.log_artifact(\"logistic_coefficients.png\")\n",
    "        elif model_name == \"RandomForest\":\n",
    "            \n",
    "            importances = model.feature_importances_\n",
    "            plt.bar(wine_feature_names, importances)\n",
    "            plt.title(\"RandomForest Feature Importance\")\n",
    "            plt.xticks(rotation=45)\n",
    "            plt.tight_layout()\n",
    "            plt.savefig(\"feature_importance.png\")\n",
    "            mlflow.log_artifact(\"feature_importance.png\")\n",
    "        plt.close()"
   ]
  },
  {
   "cell_type": "markdown",
   "id": "fcabff76",
   "metadata": {},
   "source": [
    "## Separate Experiments for Each Model"
   ]
  },
  {
   "cell_type": "markdown",
   "id": "25b61335",
   "metadata": {},
   "source": [
    "## Approach 3: Separate Experiments for Each Model\n",
    "- **Description**: Separate experiments (`MLflow_Wine_LogisticRegression`, `MLflow_Wine_RandomForest`) with one run per model.\n",
    "\n",
    "### Pros\n",
    "- **Isolation**: Each model’s logs are completely separate, reducing clutter.\n",
    "- **Clarity**: Ideal for unrelated models or distinct datasets, as experiments are clearly demarcated.\n",
    "- **Focus**: Simplifies tracking for projects where models are developed independently.\n",
    "\n",
    "### Cons\n",
    "- **Comparison Difficulty**: Comparing models across experiments is less straightforward in the MLflow UI (requires manual selection).\n",
    "- **Management Overhead**: More experiments to create and track, especially with many models.\n",
    "- **Redundancy**: Shared settings (e.g., dataset info) must be logged in each experiment."
   ]
  },
  {
   "cell_type": "code",
   "execution_count": 8,
   "id": "5e880ff4",
   "metadata": {},
   "outputs": [
    {
     "name": "stderr",
     "output_type": "stream",
     "text": [
      "2025/04/29 17:12:10 INFO mlflow.tracking.fluent: Experiment with name '3-Separate Experiments per ModelLogisticRegression' does not exist. Creating a new experiment.\n",
      "Registered model 'tracking-wine-logisticregression' already exists. Creating a new version of this model...\n",
      "2025/04/29 17:12:15 INFO mlflow.store.model_registry.abstract_store: Waiting up to 300 seconds for model version to finish creation. Model name: tracking-wine-logisticregression, version 8\n",
      "Created version '8' of model 'tracking-wine-logisticregression'.\n",
      "2025/04/29 17:12:15 INFO mlflow.tracking.fluent: Experiment with name '3-Separate Experiments per ModelRandomForest' does not exist. Creating a new experiment.\n"
     ]
    },
    {
     "name": "stdout",
     "output_type": "stream",
     "text": [
      "🏃 View run LogisticRegression_Run at: http://127.0.0.1:5000/#/experiments/129440219345249374/runs/a7120a7edda64f46b409e867d92f8f1b\n",
      "🧪 View experiment at: http://127.0.0.1:5000/#/experiments/129440219345249374\n"
     ]
    },
    {
     "name": "stderr",
     "output_type": "stream",
     "text": [
      "Registered model 'tracking-wine-randomforest' already exists. Creating a new version of this model...\n",
      "2025/04/29 17:12:20 INFO mlflow.store.model_registry.abstract_store: Waiting up to 300 seconds for model version to finish creation. Model name: tracking-wine-randomforest, version 6\n",
      "Created version '6' of model 'tracking-wine-randomforest'.\n"
     ]
    },
    {
     "name": "stdout",
     "output_type": "stream",
     "text": [
      "🏃 View run RandomForest_Run at: http://127.0.0.1:5000/#/experiments/564859271321168209/runs/df5d66c44b0f4e719a40dfcea7d6a13f\n",
      "🧪 View experiment at: http://127.0.0.1:5000/#/experiments/564859271321168209\n"
     ]
    }
   ],
   "source": [
    "mlflow.set_tracking_uri(uri=\"http://127.0.0.1:5000\")\n",
    "\n",
    "for model_name, model in models.items():\n",
    "    mlflow.set_experiment(f\"3-Separate Experiments per Model{model_name}\")\n",
    "    with mlflow.start_run(run_name=f\"{model_name}_Run\"):\n",
    "        mlflow.log_params(params[model_name])\n",
    "        mlflow.log_metrics({\n",
    "            \"accuracy\": report_dict[model_name][\"accuracy\"],\n",
    "            \"recall_class_0\": report_dict[model_name][\"0.0\"][\"recall\"],\n",
    "            \"recall_class_1\": report_dict[model_name][\"1.0\"][\"recall\"],\n",
    "            \"recall_class_2\": report_dict[model_name][\"2.0\"][\"recall\"],\n",
    "            \"f1-score\": report_dict[model_name][\"macro avg\"][\"f1-score\"]\n",
    "        })\n",
    "        mlflow.set_tag(\"Training Info\", f\"{model_name} model for Wine\")\n",
    "        signature = infer_signature(X_train, model.predict(X_train))\n",
    "        model_info = mlflow.sklearn.log_model(\n",
    "            sk_model=model,\n",
    "            artifact_path=f\"{model_name.lower()}_model\",\n",
    "            signature=signature,\n",
    "            input_example=X_train,\n",
    "            registered_model_name=f\"tracking-wine-{model_name.lower()}\"\n",
    "        )\n",
    "        predictions = model.predict(X_test)\n",
    "        result = pd.DataFrame(X_test, columns=wine_feature_names).drop(columns=\"quality_label\", errors=\"ignore\")\n",
    "        result[\"actual_class\"] = y_test\n",
    "        result[\"predicted_class\"] = predictions\n",
    "        result.to_csv(f\"{model_name}_predictions.csv\")\n",
    "        mlflow.log_artifact(f\"{model_name}_predictions.csv\")\n",
    "        \n",
    "        plt.figure()\n",
    "        if model_name == \"LogisticRegression\":\n",
    "            \n",
    "            coef = model.coef_[0]  \n",
    "            plt.bar(wine_feature_names, coef)\n",
    "            plt.title(\"LogisticRegression Coefficients\")\n",
    "            plt.xticks(rotation=45)\n",
    "            plt.tight_layout()\n",
    "            plt.savefig(\"logistic_coefficients.png\")\n",
    "            mlflow.log_artifact(\"logistic_coefficients.png\")\n",
    "        elif model_name == \"RandomForest\":\n",
    "            \n",
    "            importances = model.feature_importances_\n",
    "            plt.bar(wine_feature_names, importances)\n",
    "            plt.title(\"RandomForest Feature Importance\")\n",
    "            plt.xticks(rotation=45)\n",
    "            plt.tight_layout()\n",
    "            plt.savefig(\"feature_importance.png\")\n",
    "            mlflow.log_artifact(\"feature_importance.png\")\n",
    "        plt.close()"
   ]
  },
  {
   "cell_type": "code",
   "execution_count": null,
   "id": "03e1e930",
   "metadata": {},
   "outputs": [],
   "source": []
  }
 ],
 "metadata": {
  "kernelspec": {
   "display_name": "ml",
   "language": "python",
   "name": "python3"
  },
  "language_info": {
   "codemirror_mode": {
    "name": "ipython",
    "version": 3
   },
   "file_extension": ".py",
   "mimetype": "text/x-python",
   "name": "python",
   "nbconvert_exporter": "python",
   "pygments_lexer": "ipython3",
   "version": "3.12.9"
  }
 },
 "nbformat": 4,
 "nbformat_minor": 5
}
