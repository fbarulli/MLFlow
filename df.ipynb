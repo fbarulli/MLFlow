{
 "cells": [
  {
   "cell_type": "code",
   "execution_count": 24,
   "id": "fde26f57",
   "metadata": {},
   "outputs": [],
   "source": [
    "import pandas as pd\n",
    "\n",
    "import mlflow\n",
    "from mlflow.models import infer_signature\n",
    "\n",
    "import pandas as pd\n",
    "from sklearn import datasets\n",
    "from sklearn.model_selection import train_test_split\n",
    "from sklearn.linear_model import LogisticRegression\n",
    "from sklearn.metrics import accuracy_score, precision_score, recall_score, f1_score"
   ]
  },
  {
   "cell_type": "code",
   "execution_count": 3,
   "id": "8e7f3577",
   "metadata": {},
   "outputs": [],
   "source": [
    "import kagglehub\n",
    "from kagglehub import KaggleDatasetAdapter"
   ]
  },
  {
   "cell_type": "code",
   "execution_count": 13,
   "id": "76b49102",
   "metadata": {},
   "outputs": [
    {
     "name": "stderr",
     "output_type": "stream",
     "text": [
      "/tmp/ipykernel_9283/1865718131.py:10: DeprecationWarning: load_dataset is deprecated and will be removed in a future version.\n",
      "  df = kagglehub.load_dataset(\n"
     ]
    }
   ],
   "source": [
    "# Install dependencies as needed:\n",
    "# pip install kagglehub[pandas-datasets]\n",
    "import kagglehub\n",
    "from kagglehub import KaggleDatasetAdapter\n",
    "\n",
    "# Set the path to the file you'd like to load\n",
    "file_path = \"wine_quality_classification.csv\"\n",
    "\n",
    "# Load the latest version\n",
    "df = kagglehub.load_dataset(\n",
    "  KaggleDatasetAdapter.PANDAS,\n",
    "  \"sahideseker/wine-quality-classification\",\n",
    "  file_path,\n",
    "  # Provide any additional arguments like \n",
    "  # sql_query or pandas_kwargs. See the \n",
    "  # documenation for more information:\n",
    "  # https://github.com/Kaggle/kagglehub/blob/main/README.md#kaggledatasetadapterpandas\n",
    ")\n",
    "\n"
   ]
  },
  {
   "cell_type": "code",
   "execution_count": null,
   "id": "158033eb",
   "metadata": {},
   "outputs": [
    {
     "name": "stdout",
     "output_type": "stream",
     "text": [
      "Unique quality labels: ['high' 'medium' 'low']\n",
      "\n",
      "Accuracy: 0.3800\n",
      "\n",
      "Classification Report:\n",
      "              precision    recall  f1-score   support\n",
      "\n",
      "         low       0.28      0.27      0.27        60\n",
      "      medium       0.43      0.44      0.43        71\n",
      "        high       0.41      0.42      0.41        69\n",
      "\n",
      "    accuracy                           0.38       200\n",
      "   macro avg       0.37      0.37      0.37       200\n",
      "weighted avg       0.38      0.38      0.38       200\n",
      "\n",
      "\n",
      "Class probabilities for first 5 samples:\n",
      "[[0.3557406  0.3334074  0.31085201]\n",
      " [0.35899743 0.29858124 0.34242133]\n",
      " [0.33115966 0.33633211 0.33250823]\n",
      " [0.34913279 0.3245141  0.32635311]\n",
      " [0.36099542 0.30324388 0.3357607 ]]\n"
     ]
    }
   ],
   "source": [
    "from sklearn.preprocessing import OrdinalEncoder\n",
    "from sklearn.linear_model import LogisticRegression\n",
    "from sklearn.model_selection import train_test_split\n",
    "from sklearn.metrics import accuracy_score, classification_report\n",
    "\n",
    "\n",
    "print(\"Unique quality labels:\", df['quality_label'].unique())\n",
    "\n",
    "\n",
    "quality_order = [\"low\", \"medium\", \"high\"]  \n",
    "encoder = OrdinalEncoder(\n",
    "    categories=[quality_order],\n",
    "    handle_unknown='use_encoded_value',  \n",
    "    unknown_value=-1  \n",
    ")\n",
    "y_encoded = encoder.fit_transform(df[['quality_label']]).ravel()\n",
    "\n",
    "\n",
    "X = df.drop(columns=\"quality_label\")\n",
    "y = y_encoded\n",
    "X_train, X_test, y_train, y_test = train_test_split(\n",
    "    X, y, \n",
    "    test_size=0.2, \n",
    "    random_state=42,\n",
    "    stratify=y  \n",
    ")\n",
    "\n",
    "\n",
    "params = {\n",
    "    \"solver\": \"lbfgs\",\n",
    "    \"max_iter\": 10000,\n",
    "    \"random_state\": 8888,\n",
    "\n",
    "    \"class_weight\": \"balanced\",  \n",
    "    \"penalty\": \"l2\",\n",
    "    \"C\": 0.1  \n",
    "}\n",
    "\n",
    "lr = LogisticRegression(**params)\n",
    "lr.fit(X_train, y_train)\n",
    "\n",
    "\n",
    "y_pred = lr.predict(X_test)\n",
    "accuracy = accuracy_score(y_test, y_pred)\n",
    "print(f\"\\nAccuracy: {accuracy:.4f}\")\n",
    "print(\"\\nClassification Report:\")\n",
    "print(classification_report(y_test, y_pred, target_names=quality_order))\n",
    "\n",
    "\n",
    "y_proba = lr.predict_proba(X_test)\n",
    "print(\"\\nClass probabilities for first 5 samples:\")\n",
    "print(y_proba[:5])"
   ]
  },
  {
   "cell_type": "code",
   "execution_count": null,
   "id": "c1612c86",
   "metadata": {},
   "outputs": [],
   "source": []
  },
  {
   "cell_type": "code",
   "execution_count": null,
   "id": "c5bf47ef",
   "metadata": {},
   "outputs": [],
   "source": []
  },
  {
   "cell_type": "code",
   "execution_count": null,
   "id": "acd87883",
   "metadata": {},
   "outputs": [],
   "source": []
  }
 ],
 "metadata": {
  "kernelspec": {
   "display_name": "ml",
   "language": "python",
   "name": "python3"
  },
  "language_info": {
   "codemirror_mode": {
    "name": "ipython",
    "version": 3
   },
   "file_extension": ".py",
   "mimetype": "text/x-python",
   "name": "python",
   "nbconvert_exporter": "python",
   "pygments_lexer": "ipython3",
   "version": "3.12.9"
  }
 },
 "nbformat": 4,
 "nbformat_minor": 5
}
